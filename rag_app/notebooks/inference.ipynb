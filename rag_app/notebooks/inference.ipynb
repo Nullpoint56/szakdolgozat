{
 "cells": [
  {
   "cell_type": "code",
   "id": "initial_id",
   "metadata": {
    "collapsed": true,
    "ExecuteTime": {
     "end_time": "2024-11-19T01:30:50.448443Z",
     "start_time": "2024-11-19T01:30:47.889960Z"
    }
   },
   "source": [
    "from llama_index.agent.openai import OpenAIAgent\n",
    "from llama_index.embeddings.huggingface import HuggingFaceEmbedding\n",
    "from llama_index.core import VectorStoreIndex\n",
    "from llama_index.llms.openai import OpenAI\n",
    "from llama_index.vector_stores.chroma import ChromaVectorStore\n",
    "import chromadb\n",
    "import os\n",
    "from dotenv import load_dotenv\n",
    "\n",
    "embed_model = HuggingFaceEmbedding(\n",
    "    model_name=\"intfloat/multilingual-e5-large\"\n",
    ")\n",
    "# Specify the folder and file\n",
    "api_keys_env_file = \"../api_keys.env\"\n",
    "\n",
    "# Load the .env file\n",
    "load_dotenv(api_keys_env_file)\n",
    "\n",
    "# Access the variables\n",
    "openai_api_key = os.getenv(\"OPENAI_API_KEY\")\n",
    "\n",
    "# Setup vector DB\n",
    "chroma_client = chromadb.PersistentClient(\n",
    "    path=\"../vector_db\",\n",
    ")\n",
    "pdf_collection = chroma_client.get_or_create_collection(\"pdf_data\")\n",
    "html_collection = chroma_client.get_or_create_collection(\"html_data\")\n",
    "pdf_vector_store = ChromaVectorStore(chroma_collection=pdf_collection)\n",
    "html_vector_store = ChromaVectorStore(chroma_collection=html_collection)\n",
    "pdf_index = VectorStoreIndex.from_vector_store(\n",
    "    pdf_vector_store,\n",
    "    embed_model=embed_model,\n",
    ")\n",
    "html_index = VectorStoreIndex.from_vector_store(\n",
    "    html_vector_store,\n",
    "    embed_model=embed_model,\n",
    ")"
   ],
   "outputs": [],
   "execution_count": 8
  },
  {
   "metadata": {
    "ExecuteTime": {
     "end_time": "2024-11-19T01:34:23.108565Z",
     "start_time": "2024-11-19T01:34:23.104560Z"
    }
   },
   "cell_type": "code",
   "source": [
    "from llama_index.core.tools import QueryEngineTool, ToolMetadata\n",
    "\n",
    "# query_engine_prompt = PromptTemplate(\"\"\"\n",
    "# Based on the provided context, answer the posed question in Hungarian language.\\n\n",
    "# If the answer to the question is not clear based on the context, respond with: No data found relevant to the user's question.\\n\n",
    "# Context: {context_str}\\n\n",
    "# Question: {question_str}\\n\n",
    "# Answer: \"\"\")\n",
    "\n",
    "pdf_engine = pdf_index.as_query_engine(llm=None, similarity_top_k=3)\n",
    "html_engine = html_index.as_query_engine(llm=None, similarity_top_k=3)\n",
    "\n",
    "query_engine_tools = [\n",
    "    QueryEngineTool(\n",
    "        query_engine=pdf_engine,\n",
    "        metadata=ToolMetadata(\n",
    "            name=\"BME_Rulebook_Data_Store\",\n",
    "            description=(\n",
    "                \"This tool is a data store, containing chunks of legal regulations and rules that specify how BME, a Hungarian University functions.\"\n",
    "            ),\n",
    "        ),\n",
    "    ),\n",
    "    QueryEngineTool(\n",
    "        query_engine=html_engine,\n",
    "        metadata=ToolMetadata(\n",
    "            name=\"BME_FAQ_Website_Data_Store\",\n",
    "            description=(\n",
    "                \"This tool is a data store, containing frequently asked questions and their answers from the website of the Central Study Office of BME, a Hungarian university. The data contains information about the use of university systems, academic matters, finances, student ID card creation and student loans.\"\n",
    "            ),\n",
    "        ),\n",
    "    ),\n",
    "]"
   ],
   "id": "78597f4ce53f26ad",
   "outputs": [],
   "execution_count": 20
  },
  {
   "metadata": {
    "ExecuteTime": {
     "end_time": "2024-11-19T01:34:23.896035Z",
     "start_time": "2024-11-19T01:34:23.892275Z"
    }
   },
   "cell_type": "code",
   "source": [
    "from llama_index.core.memory import ChatMemoryBuffer\n",
    "\n",
    "system_prompt = \"\"\"Personality:\n",
    "You are an AI agent of the Hungarian University called BME. Your task is to query the data tools that are available to you and provide an accurate answer based on only what your data sources return.\n",
    "Instructions:\n",
    "- You have two tools. One contains answers to frequently asked questions often asked by the students of the university and the other contains detailed information about the rules and laws the university operates by.\n",
    "- Always use the information from the available tools.\n",
    "- If the data tools do not provide any information relevant to the user's question, politely inform the user that you don't know the answer to their question.\n",
    "- You must respond in Hungarian language.\"\"\"\n",
    "\n",
    "llm = OpenAI(model=\"gpt-4o-mini\", system_prompt=system_prompt, api_key=openai_api_key)\n",
    "\n",
    "memory = ChatMemoryBuffer(token_limit=8000)\n",
    "\n",
    "agent = OpenAIAgent(\n",
    "    tools=query_engine_tools,\n",
    "    llm=llm,\n",
    "    memory=memory,\n",
    "    prefix_messages=[],\n",
    "    verbose=True\n",
    ")"
   ],
   "id": "d5bf466fad77fa52",
   "outputs": [],
   "execution_count": 21
  },
  {
   "metadata": {
    "ExecuteTime": {
     "end_time": "2024-11-19T02:08:26.995520Z",
     "start_time": "2024-11-19T02:08:21.927825Z"
    }
   },
   "cell_type": "code",
   "source": "response = agent.chat(\"Milyen bizottságok működnek állandóan az egyetemen belül?\")",
   "id": "5be3481449f888c9",
   "outputs": [
    {
     "name": "stdout",
     "output_type": "stream",
     "text": [
      "Added user message to memory: Milyen bizottságok működnek állandóan az egyetemen belül?\n",
      "=== Calling Function ===\n",
      "Calling function: BME_Rulebook_Data_Store with args: {\"input\":\"állandó bizottságok az egyetemen\"}\n",
      "Got output: Egyetemi Tanulmányi Bizottság (ETB), Egyetemi Szociális Bizottság (ESzB), Kari Tanulmányi Bizottság (KTB), valamint Egyetemi Kreditátviteli Bizottság (EKB) az állandó bizottságok az egyetemen.\n",
      "========================\n",
      "\n"
     ]
    }
   ],
   "execution_count": 24
  },
  {
   "metadata": {
    "ExecuteTime": {
     "end_time": "2024-11-19T02:08:33.316170Z",
     "start_time": "2024-11-19T02:08:33.313169Z"
    }
   },
   "cell_type": "code",
   "source": "print(response)",
   "id": "4eda9550d732f384",
   "outputs": [
    {
     "name": "stdout",
     "output_type": "stream",
     "text": [
      "Az egyetemen belül az alábbi állandó bizottságok működnek:\n",
      "\n",
      "1. Egyetemi Tanulmányi Bizottság (ETB)\n",
      "2. Egyetemi Szociális Bizottság (ESzB)\n",
      "3. Kari Tanulmányi Bizottság (KTB)\n",
      "4. Egyetemi Kreditátviteli Bizottság (EKB)\n"
     ]
    }
   ],
   "execution_count": 25
  },
  {
   "metadata": {},
   "cell_type": "code",
   "outputs": [],
   "execution_count": null,
   "source": "",
   "id": "80e6ba77305f43dc"
  }
 ],
 "metadata": {
  "kernelspec": {
   "display_name": "Python 3",
   "language": "python",
   "name": "python3"
  },
  "language_info": {
   "codemirror_mode": {
    "name": "ipython",
    "version": 2
   },
   "file_extension": ".py",
   "mimetype": "text/x-python",
   "name": "python",
   "nbconvert_exporter": "python",
   "pygments_lexer": "ipython2",
   "version": "2.7.6"
  }
 },
 "nbformat": 4,
 "nbformat_minor": 5
}
